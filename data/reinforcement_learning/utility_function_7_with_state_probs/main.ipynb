{
 "cells": [
  {
   "cell_type": "code",
   "execution_count": 1,
   "metadata": {},
   "outputs": [],
   "source": [
    "import csv\n",
    "import itertools\n",
    "\n",
    "import numpy as np\n",
    "import matplotlib.pyplot as plt\n",
    "\n",
    "from base_scripts.utils import *"
   ]
  },
  {
   "cell_type": "code",
   "execution_count": 2,
   "metadata": {},
   "outputs": [],
   "source": [
    "lambda_2 = 1\n",
    "lambda_1 = 0.5\n",
    "mu = 0.7\n",
    "num_of_servers = 4\n",
    "threshold = 7\n",
    "system_capacity = 10\n",
    "buffer_capacity = 7"
   ]
  },
  {
   "cell_type": "code",
   "execution_count": 3,
   "metadata": {},
   "outputs": [],
   "source": [
    "def team_expertise_priority(srv, ind):  # pylint: disable=unused-argument\n",
    "    \"\"\"\n",
    "    Servers priority based on expertise\n",
    "    \"\"\"\n",
    "    if srv.id_number == 1:\n",
    "        return 0\n",
    "    if srv.id_number == 4:\n",
    "        return 1\n",
    "    return np.random.random()"
   ]
  },
  {
   "cell_type": "code",
   "execution_count": 4,
   "metadata": {},
   "outputs": [],
   "source": [
    "parameters = {\n",
    "    \"lambda_1\": lambda_1,\n",
    "    \"lambda_2\": lambda_2,\n",
    "    \"num_of_servers\": num_of_servers,\n",
    "    \"threshold\": threshold,\n",
    "    \"system_capacity\": system_capacity,\n",
    "    \"buffer_capacity\": buffer_capacity,\n",
    "    \"runtime\": 30,\n",
    "    \"num_of_trials\": 1,\n",
    "    \"seed_num\": 0,\n",
    "    \"server_priority_function\": team_expertise_priority,\n",
    "}"
   ]
  },
  {
   "cell_type": "code",
   "execution_count": 106,
   "metadata": {},
   "outputs": [],
   "source": [
    "key_params = [\"lambda_1\", \"lambda_2\", \"num_of_servers\", \"threshold\", \"system_capacity\", \"buffer_capacity\"]\n",
    "filename_parameters = {key: value for key, value in parameters.items() if key in key_params}\n",
    "filepath = \"results/e=\" + str(0.1) + \",\" + str(filename_parameters).replace(\" \", \"\").replace(\"'\", \"\").replace(\":\", \"=\").replace(\"{\", \"\").replace(\"}\", \"\")"
   ]
  },
  {
   "cell_type": "code",
   "execution_count": 107,
   "metadata": {},
   "outputs": [
    {
     "data": {
      "text/plain": [
       "'results/e=0.1,lambda_1=0.5,lambda_2=1,num_of_servers=4,threshold=7,system_capacity=10,buffer_capacity=7'"
      ]
     },
     "execution_count": 107,
     "metadata": {},
     "output_type": "execute_result"
    }
   ],
   "source": [
    "filepath"
   ]
  },
  {
   "cell_type": "code",
   "execution_count": null,
   "metadata": {},
   "outputs": [],
   "source": [
    "parameters"
   ]
  },
  {
   "cell_type": "code",
   "execution_count": 5,
   "metadata": {},
   "outputs": [],
   "source": [
    "# use_inactive_states = False\n",
    "rates = {}\n",
    "for server_id in range(1, num_of_servers + 1):\n",
    "    rates[server_id] = {}\n",
    "    for u in range(buffer_capacity + 1):\n",
    "        for v in range(system_capacity + 1):\n",
    "            if v >= threshold or u == 0:\n",
    "                # if v != threshold:\n",
    "                rates[server_id][(u, v)] = mu"
   ]
  },
  {
   "cell_type": "code",
   "execution_count": 6,
   "metadata": {},
   "outputs": [
    {
     "data": {
      "text/plain": [
       "array([[0.7, 0.7, 0.7, 0.7, 0.7, 0.7, 0.7, 0.7, 0.7, 0.7, 0.7],\n",
       "       [nan, nan, nan, nan, nan, nan, nan, 0.7, 0.7, 0.7, 0.7],\n",
       "       [nan, nan, nan, nan, nan, nan, nan, 0.7, 0.7, 0.7, 0.7],\n",
       "       [nan, nan, nan, nan, nan, nan, nan, 0.7, 0.7, 0.7, 0.7],\n",
       "       [nan, nan, nan, nan, nan, nan, nan, 0.7, 0.7, 0.7, 0.7],\n",
       "       [nan, nan, nan, nan, nan, nan, nan, 0.7, 0.7, 0.7, 0.7],\n",
       "       [nan, nan, nan, nan, nan, nan, nan, 0.7, 0.7, 0.7, 0.7],\n",
       "       [nan, nan, nan, nan, nan, nan, nan, 0.7, 0.7, 0.7, 0.7]])"
      ]
     },
     "execution_count": 6,
     "metadata": {},
     "output_type": "execute_result"
    }
   ],
   "source": [
    "demo = np.empty((buffer_capacity + 1, system_capacity + 1)) * np.NaN\n",
    "for (u,v) in list(rates[1].keys()):\n",
    "    demo[u, v] = rates[1][(u, v)]\n",
    "demo"
   ]
  },
  {
   "cell_type": "markdown",
   "metadata": {},
   "source": [
    "# Reading in files"
   ]
  },
  {
   "cell_type": "markdown",
   "metadata": {},
   "source": [
    "### Utilities"
   ]
  },
  {
   "cell_type": "code",
   "execution_count": null,
   "metadata": {},
   "outputs": [],
   "source": [
    "utilities_01 = read_from_file(\"base_scripts/results/e0.1/utilities.csv\")"
   ]
  },
  {
   "cell_type": "markdown",
   "metadata": {},
   "source": [
    "### Rates"
   ]
  },
  {
   "cell_type": "code",
   "execution_count": 7,
   "metadata": {},
   "outputs": [],
   "source": [
    "def read_from_file(filename):\n",
    "    my_list = []\n",
    "    with open(filename, 'r') as file:\n",
    "        reader = csv.reader(file)\n",
    "        for row in reader:\n",
    "            my_list.append([float(i[1:-1]) for i in row])\n",
    "    return my_list"
   ]
  },
  {
   "cell_type": "code",
   "execution_count": 19,
   "metadata": {},
   "outputs": [],
   "source": [
    "def read_rates_old_method(filename):\n",
    "    server_1_rates = []\n",
    "    server_2_rates = []\n",
    "    server_3_rates = []\n",
    "    server_4_rates = []\n",
    "    with open(filename, 'r') as file:\n",
    "        reader = csv.reader(file)\n",
    "        for row in reader:\n",
    "            server_1_rates.append([float(i.replace('[', '').replace(']', '')) for i in row[:88]])\n",
    "            server_2_rates.append([float(i.replace('[', '').replace(']', '')) for i in row[88:176]])\n",
    "            server_3_rates.append([float(i.replace('[', '').replace(']', '')) for i in row[176:264]])\n",
    "            server_4_rates.append([float(i.replace('[', '').replace(']', '')) for i in row[264:]])\n",
    "    return server_1_rates, server_2_rates, server_3_rates, server_4_rates\n",
    "\n",
    "\n",
    "def read_rates_new_method(filename):\n",
    "    server_1_rates = []\n",
    "    server_2_rates = []\n",
    "    server_3_rates = []\n",
    "    server_4_rates = []\n",
    "    with open(filename, 'r') as file:\n",
    "        reader = csv.reader(file)\n",
    "        for row in reader:\n",
    "\n",
    "            num_of_states = len(row) / 4\n",
    "            if int(num_of_states) == num_of_states:\n",
    "                num_of_states = int(num_of_states)\n",
    "            else:\n",
    "                raise Exception(\"Number of states is not an integer\")\n",
    "                \n",
    "            server_1_rates.append(\n",
    "                [float(i.replace('[', '').replace(']', '')) \n",
    "                for i in row[:num_of_states]]\n",
    "            )\n",
    "            server_2_rates.append(\n",
    "                [float(i.replace('[', '').replace(']', '')) \n",
    "                for i in row[num_of_states:(2 * num_of_states)]]\n",
    "            )\n",
    "            server_3_rates.append(\n",
    "                [float(i.replace('[', '').replace(']', '')) \n",
    "                for i in row[(2 * num_of_states):(3 * num_of_states)]]\n",
    "            )\n",
    "            server_4_rates.append(\n",
    "                [float(i.replace('[', '').replace(']', '')) \n",
    "                for i in row[(3 * num_of_states):]]\n",
    "            )\n",
    "    return server_1_rates, server_2_rates, server_3_rates, server_4_rates\n"
   ]
  },
  {
   "cell_type": "code",
   "execution_count": 46,
   "metadata": {},
   "outputs": [],
   "source": [
    "rates_from_file_01 = read_rates_new_method('base_scripts/results/e0.1/rates.csv')"
   ]
  },
  {
   "cell_type": "code",
   "execution_count": 50,
   "metadata": {},
   "outputs": [],
   "source": [
    "reconstructed_rates = reconstruct_rates(\n",
    "    rates_from_file_01,\n",
    "    system_capacity=system_capacity,\n",
    "    buffer_capacity=buffer_capacity,\n",
    "    threshold=threshold,\n",
    ")"
   ]
  },
  {
   "cell_type": "markdown",
   "metadata": {},
   "source": [
    "### State probabilities"
   ]
  },
  {
   "cell_type": "code",
   "execution_count": 51,
   "metadata": {},
   "outputs": [],
   "source": [
    "def read_states(filename):\n",
    "    state_probs = []\n",
    "    with open(filename, 'r') as file:\n",
    "        reader = csv.reader(file)\n",
    "        for row in reader:\n",
    "            state_probs.append([float(i.replace('[', '').replace(']', '')) for i in row])\n",
    "        \n",
    "    return state_probs\n",
    "\n",
    "def reconstruct_states(states_from_file, threshold, system_capacity, buffer_capacity):\n",
    "    num_of_iterations = len(states_from_file)\n",
    "    num_of_states = len(states_from_file[0])\n",
    "\n",
    "    if num_of_states == (system_capacity + 1) * (buffer_capacity + 1):\n",
    "        state_probs = {}\n",
    "        for iteration in range(num_of_iterations):\n",
    "            state_probs[iteration] = np.zeros((buffer_capacity + 1, system_capacity + 1)) * np.NaN\n",
    "            for index, (u, v) in enumerate(itertools.product(range(buffer_capacity + 1), range(system_capacity + 1))):\n",
    "                current_state_prob = states_from_file[iteration][index]\n",
    "                if not np.isnan(current_state_prob):\n",
    "                    state_probs[iteration][u, v] = current_state_prob\n",
    "    else:\n",
    "        raise Exception(\"Invalid number of states\")\n",
    "    \n",
    "    return state_probs"
   ]
  },
  {
   "cell_type": "code",
   "execution_count": 52,
   "metadata": {},
   "outputs": [],
   "source": [
    "state_probs_from_file_01 = read_states('base_scripts/results/e0.12/state_probs.csv')"
   ]
  },
  {
   "cell_type": "code",
   "execution_count": 53,
   "metadata": {},
   "outputs": [],
   "source": [
    "reconstructed_state_probabilities = reconstruct_states(\n",
    "    state_probs_from_file_01, \n",
    "    threshold=threshold, \n",
    "    system_capacity=system_capacity, \n",
    "    buffer_capacity=buffer_capacity\n",
    ")"
   ]
  },
  {
   "cell_type": "markdown",
   "metadata": {},
   "source": [
    "------------------------------------------------"
   ]
  },
  {
   "cell_type": "code",
   "execution_count": 54,
   "metadata": {},
   "outputs": [
    {
     "data": {
      "text/plain": [
       "(2000, 2000, 2000)"
      ]
     },
     "execution_count": 54,
     "metadata": {},
     "output_type": "execute_result"
    }
   ],
   "source": [
    "utilities_01 = read_from_file(\"base_scripts/results/e0.1/utilities.csv\")\n",
    "rates_from_file_01 = read_rates_new_method('base_scripts/results/e0.1/rates.csv')\n",
    "state_probs_from_file_01 = read_states('base_scripts/results/e0.1/state_probs.csv')\n",
    "len(utilities_01), len(rates_from_file_01[0]), len(state_probs_from_file_01)"
   ]
  },
  {
   "cell_type": "code",
   "execution_count": 35,
   "metadata": {},
   "outputs": [
    {
     "data": {
      "text/plain": [
       "(88, 88)"
      ]
     },
     "execution_count": 35,
     "metadata": {},
     "output_type": "execute_result"
    }
   ],
   "source": [
    "len(rates_from_file_01[3][0]), len(state_probs_from_file_01[0])"
   ]
  },
  {
   "cell_type": "code",
   "execution_count": 55,
   "metadata": {},
   "outputs": [
    {
     "data": {
      "image/png": "[encoded data removed]",
      "text/plain": [
       "<Figure size 1440x504 with 1 Axes>"
      ]
     },
     "metadata": {
      "needs_background": "light"
     },
     "output_type": "display_data"
    }
   ],
   "source": [
    "fig, ax1 = plt.subplots(1, 1, figsize=(20, 7))\n",
    "for srv in range(num_of_servers):\n",
    "    ax1.plot([util[srv] for util in utilities_01])\n",
    "ax1.legend([f\"Server {srv}\" for srv in range(1, num_of_servers + 1)])\n",
    "ax1.set_title(\"Utilities of all servers over all iterations\");"
   ]
  },
  {
   "cell_type": "code",
   "execution_count": 56,
   "metadata": {},
   "outputs": [],
   "source": [
    "all_states = abg.markov.build_states(\n",
    "    threshold=threshold,\n",
    "    system_capacity=system_capacity,\n",
    "    buffer_capacity=buffer_capacity\n",
    ")"
   ]
  },
  {
   "cell_type": "code",
   "execution_count": 60,
   "metadata": {},
   "outputs": [
    {
     "name": "stdout",
     "output_type": "stream",
     "text": [
      "0 1 (0, 0)\n"
     ]
    },
    {
     "ename": "KeyError",
     "evalue": "(0, 0)",
     "output_type": "error",
     "traceback": [
      "\u001b[1;31m---------------------------------------------------------------------------\u001b[0m",
      "\u001b[1;31mKeyError\u001b[0m                                  Traceback (most recent call last)",
      "\u001b[1;32m~\\AppData\\Local\\Temp/ipykernel_19376/539565233.py\u001b[0m in \u001b[0;36m<module>\u001b[1;34m\u001b[0m\n\u001b[0;32m      6\u001b[0m             \u001b[0mprint\u001b[0m\u001b[1;33m(\u001b[0m\u001b[0mitr\u001b[0m\u001b[1;33m,\u001b[0m \u001b[0msrv\u001b[0m\u001b[1;33m,\u001b[0m \u001b[0mstate\u001b[0m\u001b[1;33m)\u001b[0m\u001b[1;33m\u001b[0m\u001b[1;33m\u001b[0m\u001b[0m\n\u001b[0;32m      7\u001b[0m             current_iteration_mean_weighted_rate += (\n\u001b[1;32m----> 8\u001b[1;33m                 \u001b[0mreconstructed_rates\u001b[0m\u001b[1;33m[\u001b[0m\u001b[0mitr\u001b[0m\u001b[1;33m]\u001b[0m\u001b[1;33m[\u001b[0m\u001b[0msrv\u001b[0m\u001b[1;33m]\u001b[0m\u001b[1;33m[\u001b[0m\u001b[0mstate\u001b[0m\u001b[1;33m]\u001b[0m \u001b[1;33m*\u001b[0m \u001b[0mreconstructed_state_probabilities\u001b[0m\u001b[1;33m[\u001b[0m\u001b[0mstate\u001b[0m\u001b[1;33m]\u001b[0m\u001b[1;33m\u001b[0m\u001b[1;33m\u001b[0m\u001b[0m\n\u001b[0m\u001b[0;32m      9\u001b[0m             )\n\u001b[0;32m     10\u001b[0m         \u001b[0mserver_mean_weighted_rates\u001b[0m\u001b[1;33m.\u001b[0m\u001b[0mappend\u001b[0m\u001b[1;33m(\u001b[0m\u001b[0mcurrent_iteration_mean_weighted_rate\u001b[0m\u001b[1;33m)\u001b[0m\u001b[1;33m\u001b[0m\u001b[1;33m\u001b[0m\u001b[0m\n",
      "\u001b[1;31mKeyError\u001b[0m: (0, 0)"
     ]
    }
   ],
   "source": [
    "for srv in range(1, num_of_servers + 1):\n",
    "    server_mean_weighted_rates = []\n",
    "    for itr in range(len(reconstructed_rates)):\n",
    "        current_iteration_mean_weighted_rate = 0\n",
    "        for state in all_states:\n",
    "            print(itr, srv, state)\n",
    "            current_iteration_mean_weighted_rate += (\n",
    "                reconstructed_rates[itr][srv][state] * reconstructed_state_probabilities[state]\n",
    "            )\n",
    "        server_mean_weighted_rates.append(current_iteration_mean_weighted_rate)\n",
    "    ax2.plot(server_mean_weighted_rates)\n",
    "ax2.legend([f\"Server {srv}\" for srv in range(1, num_of_servers + 1)])\n",
    "ax2.set_title(\"Weighted mean rates of all servers over all iterations\")\n"
   ]
  },
  {
   "cell_type": "code",
   "execution_count": 82,
   "metadata": {},
   "outputs": [
    {
     "data": {
      "text/plain": [
       "array([[1.36364156e-01, 2.48754318e-01, 2.48033534e-01, 1.78238687e-01,\n",
       "        8.53411729e-02, 4.35657750e-02, 2.75623821e-02, 1.46156889e-02,\n",
       "        1.81747656e-03, 4.18501853e-04, 3.99290982e-05],\n",
       "       [           nan,            nan,            nan,            nan,\n",
       "                   nan,            nan,            nan, 8.89725390e-03,\n",
       "        7.25838500e-04,            nan,            nan],\n",
       "       [           nan,            nan,            nan,            nan,\n",
       "                   nan,            nan,            nan, 3.06300252e-03,\n",
       "        6.13136070e-04, 1.49403294e-05, 2.91097363e-04],\n",
       "       [           nan,            nan,            nan,            nan,\n",
       "                   nan,            nan,            nan, 7.47466836e-04,\n",
       "        2.99334127e-04, 2.84333742e-05, 4.61266203e-05],\n",
       "       [           nan,            nan,            nan,            nan,\n",
       "                   nan,            nan,            nan, 3.08910464e-04,\n",
       "        1.64883764e-04, 4.79546907e-05,            nan],\n",
       "       [           nan,            nan,            nan,            nan,\n",
       "                   nan,            nan,            nan,            nan,\n",
       "                   nan,            nan,            nan],\n",
       "       [           nan,            nan,            nan,            nan,\n",
       "                   nan,            nan,            nan,            nan,\n",
       "                   nan,            nan,            nan],\n",
       "       [           nan,            nan,            nan,            nan,\n",
       "                   nan,            nan,            nan,            nan,\n",
       "                   nan,            nan,            nan]])"
      ]
     },
     "execution_count": 82,
     "metadata": {},
     "output_type": "execute_result"
    }
   ],
   "source": [
    "reconstructed_state_probabilities[86]"
   ]
  },
  {
   "cell_type": "code",
   "execution_count": 45,
   "metadata": {},
   "outputs": [
    {
     "data": {
      "text/plain": [
       "[0.7,\n",
       " 0.7,\n",
       " 0.7,\n",
       " 0.7,\n",
       " 0.7,\n",
       " 0.7,\n",
       " 0.7,\n",
       " 0.7,\n",
       " 0.7,\n",
       " 0.7,\n",
       " 0.7,\n",
       " 0.7,\n",
       " 0.7,\n",
       " 0.7,\n",
       " 0.7,\n",
       " 0.7,\n",
       " 0.7,\n",
       " 0.7,\n",
       " 0.7,\n",
       " 0.7,\n",
       " 0.7,\n",
       " 0.7,\n",
       " 0.7,\n",
       " 0.7,\n",
       " 0.7,\n",
       " 0.7,\n",
       " 0.7,\n",
       " 0.7,\n",
       " 0.7,\n",
       " 0.4557448793333834,\n",
       " 0.7,\n",
       " 0.7,\n",
       " 0.7,\n",
       " 0.7,\n",
       " 0.7,\n",
       " 0.7,\n",
       " 0.7,\n",
       " 0.7,\n",
       " 0.7,\n",
       " 0.7,\n",
       " 0.7,\n",
       " 0.7,\n",
       " 0.7,\n",
       " 0.7,\n",
       " 0.7,\n",
       " 0.7,\n",
       " 0.7,\n",
       " 0.7,\n",
       " 0.7,\n",
       " 0.7,\n",
       " 0.7,\n",
       " 0.7,\n",
       " 0.7,\n",
       " 0.7,\n",
       " 0.7,\n",
       " 0.7,\n",
       " 0.7,\n",
       " 0.7,\n",
       " 0.7,\n",
       " 0.7,\n",
       " 0.7,\n",
       " 0.7,\n",
       " 0.7,\n",
       " 0.7,\n",
       " 0.7,\n",
       " 0.7,\n",
       " 0.7,\n",
       " 0.7,\n",
       " 0.7,\n",
       " 0.7,\n",
       " 0.7,\n",
       " 0.7,\n",
       " 0.7,\n",
       " 0.7,\n",
       " 0.7,\n",
       " 0.7,\n",
       " 0.7,\n",
       " 0.7,\n",
       " 0.7,\n",
       " 0.7,\n",
       " 0.7,\n",
       " 0.7,\n",
       " 0.7,\n",
       " 0.7,\n",
       " 0.7,\n",
       " 0.7,\n",
       " 0.7,\n",
       " 0.7]"
      ]
     },
     "execution_count": 45,
     "metadata": {},
     "output_type": "execute_result"
    }
   ],
   "source": [
    "rates_from_file_01[0][3][0]"
   ]
  },
  {
   "cell_type": "code",
   "execution_count": null,
   "metadata": {},
   "outputs": [],
   "source": []
  },
  {
   "cell_type": "markdown",
   "metadata": {},
   "source": [
    "## Compact rates"
   ]
  },
  {
   "cell_type": "code",
   "execution_count": 104,
   "metadata": {},
   "outputs": [],
   "source": [
    "def read_rates_new_method(filename):\n",
    "    server_1_rates = []\n",
    "    server_2_rates = []\n",
    "    server_3_rates = []\n",
    "    server_4_rates = []\n",
    "    with open(filename, 'r') as file:\n",
    "        reader = csv.reader(file)\n",
    "        for row in reader:\n",
    "\n",
    "            num_of_states = len(row) / 4\n",
    "            if int(num_of_states) == num_of_states:\n",
    "                num_of_states = int(num_of_states)\n",
    "            else:\n",
    "                raise Exception(\"Number of states is not an integer\")\n",
    "                \n",
    "            server_1_rates.append(\n",
    "                [float(i.replace('[', '').replace(']', '')) \n",
    "                for i in row[:num_of_states]]\n",
    "            )\n",
    "            server_2_rates.append(\n",
    "                [float(i.replace('[', '').replace(']', '')) \n",
    "                for i in row[num_of_states:(2 * num_of_states)]]\n",
    "            )\n",
    "            server_3_rates.append(\n",
    "                [float(i.replace('[', '').replace(']', '')) \n",
    "                for i in row[(2 * num_of_states):(3 * num_of_states)]]\n",
    "            )\n",
    "            server_4_rates.append(\n",
    "                [float(i.replace('[', '').replace(']', '')) \n",
    "                for i in row[(3 * num_of_states):]]\n",
    "            )\n",
    "    return server_1_rates, server_2_rates, server_3_rates, server_4_rates\n"
   ]
  },
  {
   "cell_type": "code",
   "execution_count": 106,
   "metadata": {},
   "outputs": [],
   "source": [
    "utilities_012 = read_from_file(\"base_scripts/results/e0.12/utilities.csv\")\n",
    "rates_from_file_012 = read_rates_new_method('base_scripts/results/e0.12/rates.csv')\n",
    "state_probs_from_file_012 = read_states('base_scripts/results/e0.12/state_probs.csv')"
   ]
  },
  {
   "cell_type": "code",
   "execution_count": null,
   "metadata": {},
   "outputs": [],
   "source": []
  },
  {
   "cell_type": "code",
   "execution_count": 156,
   "metadata": {},
   "outputs": [],
   "source": [
    "demo = []\n",
    "for v in range(system_capacity + 1):\n",
    "    for u in range(buffer_capacity + 1):\n",
    "        if v >= threshold or u == 0:\n",
    "            demo.append((u, v))"
   ]
  },
  {
   "cell_type": "code",
   "execution_count": 157,
   "metadata": {},
   "outputs": [
    {
     "name": "stdout",
     "output_type": "stream",
     "text": [
      "(0, 0) (0, 0)\n",
      "(0, 1) (0, 1)\n",
      "(0, 2) (0, 2)\n",
      "(0, 3) (0, 3)\n",
      "(0, 4) (0, 4)\n",
      "(0, 5) (0, 5)\n",
      "(0, 6) (0, 6)\n",
      "(0, 7) (0, 7)\n",
      "(1, 7) (1, 7)\n",
      "(2, 7) (2, 7)\n",
      "(3, 7) (3, 7)\n",
      "(4, 7) (4, 7)\n",
      "(5, 7) (5, 7)\n",
      "(6, 7) (6, 7)\n",
      "(7, 7) (7, 7)\n",
      "(0, 8) (0, 8)\n",
      "(1, 8) (1, 8)\n",
      "(2, 8) (2, 8)\n",
      "(3, 8) (3, 8)\n",
      "(4, 8) (4, 8)\n",
      "(5, 8) (5, 8)\n",
      "(6, 8) (6, 8)\n",
      "(7, 8) (7, 8)\n",
      "(0, 9) (0, 9)\n",
      "(1, 9) (1, 9)\n",
      "(2, 9) (2, 9)\n",
      "(3, 9) (3, 9)\n",
      "(4, 9) (4, 9)\n",
      "(5, 9) (5, 9)\n",
      "(6, 9) (6, 9)\n",
      "(7, 9) (7, 9)\n",
      "(0, 10) (0, 10)\n",
      "(1, 10) (1, 10)\n",
      "(2, 10) (2, 10)\n",
      "(3, 10) (3, 10)\n",
      "(4, 10) (4, 10)\n",
      "(5, 10) (5, 10)\n",
      "(6, 10) (6, 10)\n",
      "(7, 10) (7, 10)\n"
     ]
    }
   ],
   "source": [
    "for i, state in enumerate(all_states):\n",
    "    print(demo[i], state)"
   ]
  },
  {
   "cell_type": "code",
   "execution_count": null,
   "metadata": {},
   "outputs": [],
   "source": []
  }
 ],
 "metadata": {
  "interpreter": {
   "hash": "1adbad69f80dcce19114d6adc47e51e1e49901953804ab4006ee3b03934f2a03"
  },
  "kernelspec": {
   "display_name": "Python 3.8.12 ('AmbulanceGame')",
   "language": "python",
   "name": "python3"
  },
  "language_info": {
   "codemirror_mode": {
    "name": "ipython",
    "version": 3
   },
   "file_extension": ".py",
   "mimetype": "text/x-python",
   "name": "python",
   "nbconvert_exporter": "python",
   "pygments_lexer": "ipython3",
   "version": "3.8.12"
  },
  "orig_nbformat": 4
 },
 "nbformat": 4,
 "nbformat_minor": 2
}
