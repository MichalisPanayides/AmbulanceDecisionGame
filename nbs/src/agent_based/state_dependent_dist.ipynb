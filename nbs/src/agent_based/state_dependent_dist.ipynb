{
 "cells": [
  {
   "cell_type": "code",
   "execution_count": 2,
   "metadata": {},
   "outputs": [],
   "source": [
    "import ciw\n",
    "import numpy as np\n",
    "import random\n"
   ]
  },
  {
   "cell_type": "markdown",
   "metadata": {},
   "source": [
    "# State dependent distribution (Ciw examples)"
   ]
  },
  {
   "cell_type": "markdown",
   "metadata": {},
   "source": [
    "### Example 1"
   ]
  },
  {
   "cell_type": "code",
   "execution_count": 126,
   "metadata": {},
   "outputs": [],
   "source": [
    "class StateDependentDist(ciw.dists.Distribution):\n",
    "    def sample(self, t=None, ind=None):\n",
    "        n = ind.simulation.statetracker.state\n",
    "        return max((-0.05 * n) + 0.2, 0)\n"
   ]
  },
  {
   "cell_type": "code",
   "execution_count": 127,
   "metadata": {},
   "outputs": [],
   "source": [
    "N = ciw.create_network(\n",
    "    arrival_distributions=[ciw.dists.Exponential(rate=4)],\n",
    "    service_distributions=[StateDependentDist()],\n",
    "    number_of_servers=[1],\n",
    ")\n"
   ]
  },
  {
   "cell_type": "code",
   "execution_count": 128,
   "metadata": {},
   "outputs": [
    {
     "data": {
      "text/plain": [
       "[0.20000000000000284,\n",
       " 0.20000000000000284,\n",
       " 0.15000000000000568,\n",
       " 0.15000000000000568]"
      ]
     },
     "execution_count": 128,
     "metadata": {},
     "output_type": "execute_result"
    }
   ],
   "source": [
    "ciw.seed(0)\n",
    "Q = ciw.Simulation(N, tracker=ciw.trackers.SystemPopulation())\n",
    "Q.simulate_until_max_time(500)\n",
    "recs = Q.get_all_records()\n",
    "\n",
    "services = [r.service_time for r in recs if r.arrival_date > 100]\n",
    "services[3:7]\n"
   ]
  },
  {
   "cell_type": "code",
   "execution_count": 129,
   "metadata": {},
   "outputs": [
    {
     "data": {
      "text/plain": [
       "{0: 0.3891992703385469,\n",
       " 1: 0.3832143640156472,\n",
       " 2: 0.18009445128266752,\n",
       " 3: 0.03961790540647283,\n",
       " 4: 0.006533982863521656,\n",
       " 5: 0.0012003674819792494,\n",
       " 6: 6.738593588279112e-05,\n",
       " 7: 7.227267528186585e-05}"
      ]
     },
     "execution_count": 129,
     "metadata": {},
     "output_type": "execute_result"
    }
   ],
   "source": [
    "probs = Q.statetracker.state_probabilities()\n",
    "probs"
   ]
  },
  {
   "cell_type": "code",
   "execution_count": null,
   "metadata": {},
   "outputs": [],
   "source": []
  },
  {
   "cell_type": "markdown",
   "metadata": {},
   "source": [
    "### Example 2"
   ]
  },
  {
   "cell_type": "code",
   "execution_count": 6,
   "metadata": {},
   "outputs": [],
   "source": [
    "class LimitedExponential(ciw.dists.Exponential):\n",
    "    def __init__(self, rate, limit):\n",
    "        super().__init__(rate)\n",
    "        self.limit = limit\n",
    "\n",
    "    def sample(self, t=None, ind=None):\n",
    "        if self.simulation.nodes[0].number_of_individuals < self.limit:\n",
    "            return super().sample()\n",
    "        else:\n",
    "            return float(\"Inf\")\n"
   ]
  },
  {
   "cell_type": "code",
   "execution_count": 7,
   "metadata": {},
   "outputs": [
    {
     "data": {
      "text/plain": [
       "44"
      ]
     },
     "execution_count": 7,
     "metadata": {},
     "output_type": "execute_result"
    }
   ],
   "source": [
    "N = ciw.create_network(\n",
    "    arrival_distributions=[LimitedExponential(rate=1, limit=44)],\n",
    "    service_distributions=[ciw.dists.Exponential(rate=3)],\n",
    "    number_of_servers=[2],\n",
    ")\n",
    "ciw.seed(0)\n",
    "Q = ciw.Simulation(N)\n",
    "Q.simulate_until_max_time(3000)\n",
    "recs = Q.get_all_records()\n",
    "len(recs)\n"
   ]
  },
  {
   "cell_type": "code",
   "execution_count": 8,
   "metadata": {},
   "outputs": [
    {
     "data": {
      "text/plain": [
       "Individual 1"
      ]
     },
     "execution_count": 8,
     "metadata": {},
     "output_type": "execute_result"
    }
   ],
   "source": [
    "Q.get_all_individuals()[0]\n"
   ]
  },
  {
   "cell_type": "code",
   "execution_count": null,
   "metadata": {},
   "outputs": [],
   "source": []
  },
  {
   "cell_type": "markdown",
   "metadata": {},
   "source": [
    "# Building a state dependent model"
   ]
  },
  {
   "cell_type": "code",
   "execution_count": 9,
   "metadata": {},
   "outputs": [],
   "source": [
    "class StateDependentExponential(ciw.dists.Exponential):\n",
    "    def __init__(self, rates):\n",
    "        self.rates = rates\n",
    "\n",
    "    def sample(self, t=None, ind=None):\n",
    "        state = ind.simulation.statetracker.state\n",
    "        rate = self.rates[state[0]]\n",
    "        super().__init__(rate)\n",
    "        return super().sample()\n"
   ]
  },
  {
   "cell_type": "code",
   "execution_count": 10,
   "metadata": {},
   "outputs": [],
   "source": [
    "rates = {0: 1, 1: 1, 2: 1, 3: 1, 4: 1}\n"
   ]
  },
  {
   "cell_type": "code",
   "execution_count": 11,
   "metadata": {},
   "outputs": [],
   "source": [
    "N_1 = ciw.create_network(\n",
    "    arrival_distributions=[ciw.dists.Exponential(rate=0.5)],\n",
    "    service_distributions=[StateDependentExponential(rates=rates)],\n",
    "    number_of_servers=[2],\n",
    "    queue_capacities=[2],\n",
    ")\n",
    "\n",
    "N_2 = ciw.create_network(\n",
    "    arrival_distributions=[ciw.dists.Exponential(rate=0.5)],\n",
    "    service_distributions=[ciw.dists.Exponential(rate=1)],\n",
    "    number_of_servers=[2],\n",
    "    queue_capacities=[2],\n",
    ")\n"
   ]
  },
  {
   "cell_type": "code",
   "execution_count": 12,
   "metadata": {},
   "outputs": [],
   "source": [
    "ciw.seed(0)\n",
    "Q_1 = ciw.Simulation(N_1, tracker=ciw.trackers.NodePopulation())\n",
    "Q_1.simulate_until_max_time(20)\n",
    "recs_1 = Q_1.get_all_records()\n"
   ]
  },
  {
   "cell_type": "code",
   "execution_count": 13,
   "metadata": {},
   "outputs": [],
   "source": [
    "ciw.seed(0)\n",
    "Q_2 = ciw.Simulation(N_2, tracker=ciw.trackers.NodePopulation())\n",
    "Q_2.simulate_until_max_time(20)\n",
    "recs_2 = Q_2.get_all_records()\n"
   ]
  },
  {
   "cell_type": "code",
   "execution_count": 14,
   "metadata": {},
   "outputs": [],
   "source": [
    "for rec_1, rec_2 in zip(recs_1, recs_2):\n",
    "    for i, j in zip(rec_1, rec_2):\n",
    "        assert i == j\n"
   ]
  },
  {
   "cell_type": "code",
   "execution_count": null,
   "metadata": {},
   "outputs": [],
   "source": []
  },
  {
   "cell_type": "markdown",
   "metadata": {},
   "source": [
    "# Build a state dependent model (better way)"
   ]
  },
  {
   "cell_type": "code",
   "execution_count": 3,
   "metadata": {},
   "outputs": [],
   "source": [
    "class StateDependentExponential(ciw.dists.Distribution):\n",
    "    def __init__(self, rates):\n",
    "        if any(rate <= 0 for rate in rates.values()):\n",
    "            raise ValueError('Exponential distribution must sample positive numbers only.')\n",
    "        self.rates = rates\n",
    "\n",
    "    def sample(self, t=None, ind=None):\n",
    "        state = ind.simulation.statetracker.state\n",
    "        rate = self.rates[state[0]]\n",
    "        return random.expovariate(rate)"
   ]
  },
  {
   "cell_type": "code",
   "execution_count": 21,
   "metadata": {},
   "outputs": [],
   "source": [
    "rates = {0: 1, 1: 1, 2: 1, 3: 1, 4: 1} "
   ]
  },
  {
   "cell_type": "code",
   "execution_count": 22,
   "metadata": {},
   "outputs": [],
   "source": [
    "N_1 = ciw.create_network(\n",
    "    arrival_distributions=[ciw.dists.Exponential(rate=0.5)],\n",
    "    service_distributions=[StateDependentExponential(rates=rates)],\n",
    "    number_of_servers=[2],\n",
    "    queue_capacities=[2],\n",
    ")\n",
    "\n",
    "N_2 = ciw.create_network(\n",
    "    arrival_distributions=[ciw.dists.Exponential(rate=0.5)],\n",
    "    service_distributions=[ciw.dists.Exponential(rate=1)],\n",
    "    number_of_servers=[2],\n",
    "    queue_capacities=[2],\n",
    ")\n"
   ]
  },
  {
   "cell_type": "code",
   "execution_count": 23,
   "metadata": {},
   "outputs": [],
   "source": [
    "ciw.seed(0)\n",
    "Q_1 = ciw.Simulation(N_1, tracker=ciw.trackers.NodePopulation())\n",
    "Q_1.simulate_until_max_time(20)\n",
    "recs_1 = Q_1.get_all_records()\n"
   ]
  },
  {
   "cell_type": "code",
   "execution_count": 24,
   "metadata": {},
   "outputs": [],
   "source": [
    "ciw.seed(0)\n",
    "Q_2 = ciw.Simulation(N_2, tracker=ciw.trackers.NodePopulation())\n",
    "Q_2.simulate_until_max_time(20)\n",
    "recs_2 = Q_2.get_all_records()\n"
   ]
  },
  {
   "cell_type": "code",
   "execution_count": 25,
   "metadata": {},
   "outputs": [],
   "source": [
    "for rec_1, rec_2 in zip(recs_1, recs_2):\n",
    "    for i, j in zip(rec_1, rec_2):\n",
    "        assert (i == j), (i, j)\n"
   ]
  },
  {
   "cell_type": "code",
   "execution_count": 26,
   "metadata": {},
   "outputs": [
    {
     "data": {
      "text/plain": [
       "[Record(id_number=2, customer_class=0, node=1, arrival_date=4.8126405132136325, waiting_time=0.0, service_start_date=4.8126405132136325, service_time=0.2996423122138143, service_end_date=5.112282825427447, time_blocked=0.0, exit_date=5.112282825427447, destination=-1, queue_size_at_arrival=1, queue_size_at_departure=1),\n",
       " Record(id_number=1, customer_class=0, node=1, arrival_date=3.7212142221304467, waiting_time=0.0, service_start_date=3.7212142221304467, service_time=1.418629152971762, service_end_date=5.139843375102209, time_blocked=0.0, exit_date=5.139843375102209, destination=-1, queue_size_at_arrival=0, queue_size_at_departure=0)]"
      ]
     },
     "execution_count": 26,
     "metadata": {},
     "output_type": "execute_result"
    }
   ],
   "source": [
    "recs_1[:2]"
   ]
  },
  {
   "cell_type": "code",
   "execution_count": 27,
   "metadata": {},
   "outputs": [
    {
     "data": {
      "text/plain": [
       "[Record(id_number=2, customer_class=0, node=1, arrival_date=4.8126405132136325, waiting_time=0.0, service_start_date=4.8126405132136325, service_time=0.2996423122138143, service_end_date=5.112282825427447, time_blocked=0.0, exit_date=5.112282825427447, destination=-1, queue_size_at_arrival=1, queue_size_at_departure=1),\n",
       " Record(id_number=1, customer_class=0, node=1, arrival_date=3.7212142221304467, waiting_time=0.0, service_start_date=3.7212142221304467, service_time=1.418629152971762, service_end_date=5.139843375102209, time_blocked=0.0, exit_date=5.139843375102209, destination=-1, queue_size_at_arrival=0, queue_size_at_departure=0)]"
      ]
     },
     "execution_count": 27,
     "metadata": {},
     "output_type": "execute_result"
    }
   ],
   "source": [
    "recs_2[:2]"
   ]
  },
  {
   "cell_type": "code",
   "execution_count": null,
   "metadata": {},
   "outputs": [],
   "source": []
  },
  {
   "cell_type": "markdown",
   "metadata": {},
   "source": [
    "# Emergency Department model"
   ]
  },
  {
   "cell_type": "code",
   "execution_count": 102,
   "metadata": {},
   "outputs": [],
   "source": [
    "class StateDependentExponential(ciw.dists.Distribution):\n",
    "    def __init__(self, rates):\n",
    "        if any(rate <= 0 for rate in rates.values()):\n",
    "            raise ValueError('Exponential distribution must sample positive numbers only.')\n",
    "        self.rates = rates\n",
    "\n",
    "    def sample(self, t=None, ind=None):\n",
    "        state = ind.simulation.statetracker.state\n",
    "        rate = self.rates[tuple(state)]\n",
    "        return random.expovariate(rate)\n",
    "\n",
    "\n",
    "# class StateDependentExponential(ciw.dists.Exponential):\n",
    "#     def __init__(self, rates):\n",
    "#         self.rates = rates\n",
    "\n",
    "#     def sample(self, t=None, ind=None):\n",
    "#         state = ind.simulation.statetracker.state\n",
    "#         rate = self.rates[tuple(state)]\n",
    "#         super().__init__(rate)\n",
    "#         return super().sample()"
   ]
  },
  {
   "cell_type": "code",
   "execution_count": 103,
   "metadata": {},
   "outputs": [],
   "source": [
    "def build_model(\n",
    "    lambda_2,\n",
    "    lambda_1,\n",
    "    rates,\n",
    "    num_of_servers,\n",
    "    system_capacity=float(\"inf\"),\n",
    "    buffer_capacity=float(\"inf\"),\n",
    "):\n",
    "    model = ciw.create_network(\n",
    "        arrival_distributions=[\n",
    "            ciw.dists.Exponential(lambda_2),\n",
    "            ciw.dists.Exponential(lambda_1),\n",
    "        ],\n",
    "        service_distributions=[\n",
    "            ciw.dists.Deterministic(0),\n",
    "            StateDependentExponential(rates=rates),\n",
    "        ],\n",
    "        routing=[[0.0, 1.0], [0.0, 0.0]],\n",
    "        number_of_servers=[buffer_capacity, num_of_servers],\n",
    "        queue_capacities=[0, system_capacity - num_of_servers],\n",
    "    )\n",
    "    return model\n"
   ]
  },
  {
   "cell_type": "code",
   "execution_count": 104,
   "metadata": {},
   "outputs": [],
   "source": [
    "def build_custom_node(threshold=float(\"inf\")):\n",
    "    class CustomNode(ciw.Node):\n",
    "        def release_blocked_individual(self):\n",
    "            continue_blockage = (\n",
    "                self.number_of_individuals >= threshold and self.id_number == 2\n",
    "            )\n",
    "            if (\n",
    "                self.len_blocked_queue > 0\n",
    "                and self.number_of_individuals < self.node_capacity\n",
    "                and not continue_blockage\n",
    "            ):\n",
    "                node_to_receive_from = self.simulation.nodes[self.blocked_queue[0][0]]\n",
    "                individual_to_receive_index = [\n",
    "                    ind.id_number for ind in node_to_receive_from.all_individuals\n",
    "                ].index(self.blocked_queue[0][1])\n",
    "                individual_to_receive = node_to_receive_from.all_individuals[\n",
    "                    individual_to_receive_index\n",
    "                ]\n",
    "                self.blocked_queue.pop(0)\n",
    "                self.len_blocked_queue -= 1\n",
    "                if individual_to_receive.interrupted:  # pragma: no cover\n",
    "                    individual_to_receive.interrupted = False\n",
    "                    node_to_receive_from.interrupted_individuals.remove(\n",
    "                        individual_to_receive\n",
    "                    )\n",
    "                    node_to_receive_from.number_interrupted_individuals -= 1\n",
    "                node_to_receive_from.release(individual_to_receive_index, self)\n",
    "\n",
    "        def finish_service(self):\n",
    "            next_individual, next_individual_index = self.find_next_individual()\n",
    "            self.change_customer_class(next_individual)\n",
    "            next_node = self.next_node(next_individual)\n",
    "            next_individual.destination = next_node.id_number\n",
    "            if not np.isinf(self.c):\n",
    "                next_individual.server.next_end_service_date = float(\"Inf\")\n",
    "            blockage = (\n",
    "                next_node.number_of_individuals >= threshold and self.id_number == 1\n",
    "            )\n",
    "            if (\n",
    "                next_node.number_of_individuals < next_node.node_capacity\n",
    "            ) and not blockage:\n",
    "                self.release(next_individual_index, next_node)\n",
    "            else:\n",
    "                self.block_individual(next_individual, next_node)\n",
    "\n",
    "    return CustomNode\n"
   ]
  },
  {
   "cell_type": "code",
   "execution_count": 105,
   "metadata": {},
   "outputs": [],
   "source": [
    "def simulate_model(\n",
    "    lambda_2,\n",
    "    lambda_1,\n",
    "    rates,\n",
    "    num_of_servers,\n",
    "    threshold,\n",
    "    seed_num=None,\n",
    "    runtime=1440,\n",
    "    system_capacity=float(\"inf\"),\n",
    "    buffer_capacity=float(\"inf\"),\n",
    "    num_of_trials=1,\n",
    "    tracker=ciw.trackers.NodePopulation(),\n",
    "):\n",
    "    if buffer_capacity < 1:\n",
    "        raise ValueError(\n",
    "            \"Simulation only implemented for buffer_capacity >= 1\"\n",
    "        )  # TODO Add an option to ciw model to all for no buffer capacity.\n",
    "\n",
    "    if threshold > system_capacity:\n",
    "        buffer_capacity = 1\n",
    "        # TODO: Different approach to handle this situation\n",
    "\n",
    "    if seed_num is None:\n",
    "        seed_num = random.random()\n",
    "\n",
    "    all_simulations = []\n",
    "    for trial in range(num_of_trials):\n",
    "        model = build_model(\n",
    "            lambda_2=lambda_2,\n",
    "            lambda_1=lambda_1,\n",
    "            rates=rates,\n",
    "            num_of_servers=num_of_servers,\n",
    "            system_capacity=system_capacity,\n",
    "            buffer_capacity=buffer_capacity,\n",
    "        )\n",
    "        node = build_custom_node(threshold)\n",
    "        ciw.seed(seed_num + trial)\n",
    "        simulation = ciw.Simulation(model, node_class=node, tracker=tracker)\n",
    "        simulation.simulate_until_max_time(runtime)\n",
    "        all_simulations.append(simulation)\n",
    "\n",
    "    return all_simulations if len(all_simulations) > 1 else all_simulations[0]\n"
   ]
  },
  {
   "cell_type": "code",
   "execution_count": 117,
   "metadata": {},
   "outputs": [],
   "source": [
    "rates = {\n",
    "    (0, 0): 0.5,\n",
    "    (0, 1): 0.6,\n",
    "    (0, 2): 0.5,\n",
    "    (1, 2): 0.5,\n",
    "    (0, 3): 0.5,\n",
    "    (1, 3): 0.5,\n",
    "    (0, 4): 0.5,\n",
    "    (1, 4): 0.5,\n",
    "}\n"
   ]
  },
  {
   "cell_type": "code",
   "execution_count": 118,
   "metadata": {},
   "outputs": [],
   "source": [
    "sim_1 = simulate_model(\n",
    "    lambda_1=1,\n",
    "    lambda_2=0.1,\n",
    "    rates=rates,\n",
    "    num_of_servers=1,\n",
    "    threshold=3,\n",
    "    seed_num=2,\n",
    "    system_capacity=4,\n",
    "    buffer_capacity=1,\n",
    "    runtime=10\n",
    ")"
   ]
  },
  {
   "cell_type": "code",
   "execution_count": 119,
   "metadata": {},
   "outputs": [],
   "source": [
    "import ambulance_game as abg\n",
    "sim_2 = abg.simulation.simulate_model(\n",
    "    lambda_1=1,\n",
    "    lambda_2=0.1,\n",
    "    mu=0.5,\n",
    "    num_of_servers=1,\n",
    "    threshold=3,\n",
    "    seed_num=2,\n",
    "    system_capacity=4,\n",
    "    buffer_capacity=1,\n",
    "    runtime=10\n",
    ")"
   ]
  },
  {
   "cell_type": "code",
   "execution_count": 120,
   "metadata": {},
   "outputs": [
    {
     "data": {
      "text/plain": [
       "[Record(id_number=1, customer_class=0, node=2, arrival_date=2.9531994947994646, waiting_time=0.0, service_start_date=2.9531994947994646, service_time=0.1164267189144974, service_end_date=3.069626213713962, time_blocked=0.0, exit_date=3.069626213713962, destination=-1, queue_size_at_arrival=0, queue_size_at_departure=1),\n",
       " Record(id_number=2, customer_class=0, node=2, arrival_date=3.0418908222894347, waiting_time=0.0277353914245273, service_start_date=3.069626213713962, service_time=2.2194875075431733, service_end_date=5.289113721257135, time_blocked=0.0, exit_date=5.289113721257135, destination=-1, queue_size_at_arrival=1, queue_size_at_departure=1),\n",
       " Record(id_number=3, customer_class=0, node=2, arrival_date=4.846728711207635, waiting_time=0.4423850100495006, service_start_date=5.289113721257135, service_time=0.6139442264291155, service_end_date=5.903057947686251, time_blocked=0.0, exit_date=5.903057947686251, destination=-1, queue_size_at_arrival=1, queue_size_at_departure=0),\n",
       " Record(id_number=4, customer_class=0, node=2, arrival_date=5.954574703931114, waiting_time=0.0, service_start_date=5.954574703931114, service_time=1.8625253364966845, service_end_date=7.817100040427799, time_blocked=0.0, exit_date=7.817100040427799, destination=-1, queue_size_at_arrival=0, queue_size_at_departure=2),\n",
       " Record(id_number=5, customer_class=0, node=2, arrival_date=6.888016003706007, waiting_time=0.9290840367217914, service_start_date=7.817100040427799, service_time=1.1265888326188067, service_end_date=8.943688873046606, time_blocked=0.0, exit_date=8.943688873046606, destination=-1, queue_size_at_arrival=1, queue_size_at_departure=3)]"
      ]
     },
     "execution_count": 120,
     "metadata": {},
     "output_type": "execute_result"
    }
   ],
   "source": [
    "sim_1.get_all_records()"
   ]
  },
  {
   "cell_type": "code",
   "execution_count": 121,
   "metadata": {},
   "outputs": [
    {
     "data": {
      "text/plain": [
       "[Record(id_number=1, customer_class=0, node=2, arrival_date=2.9531994947994646, waiting_time=0.0, service_start_date=2.9531994947994646, service_time=0.1164267189144974, service_end_date=3.069626213713962, time_blocked=0.0, exit_date=3.069626213713962, destination=-1, queue_size_at_arrival=0, queue_size_at_departure=1),\n",
       " Record(id_number=2, customer_class=0, node=2, arrival_date=3.0418908222894347, waiting_time=0.0277353914245273, service_start_date=3.069626213713962, service_time=2.6633850090518076, service_end_date=5.73301122276577, time_blocked=0.0, exit_date=5.73301122276577, destination=-1, queue_size_at_arrival=1, queue_size_at_departure=1),\n",
       " Record(id_number=3, customer_class=0, node=2, arrival_date=4.846728711207635, waiting_time=0.886282511558135, service_start_date=5.73301122276577, service_time=0.7367330717149381, service_end_date=6.469744294480708, time_blocked=0.0, exit_date=6.469744294480708, destination=-1, queue_size_at_arrival=1, queue_size_at_departure=1),\n",
       " Record(id_number=4, customer_class=0, node=2, arrival_date=5.954574703931114, waiting_time=0.5151695905495934, service_start_date=6.469744294480708, service_time=1.8668825995497853, service_end_date=8.336626894030493, time_blocked=0.0, exit_date=8.336626894030493, destination=-1, queue_size_at_arrival=1, queue_size_at_departure=3),\n",
       " Record(id_number=5, customer_class=0, node=2, arrival_date=6.885837372179457, waiting_time=1.4507895218510365, service_start_date=8.336626894030493, service_time=1.0002060345518071, service_end_date=9.3368329285823, time_blocked=0.0, exit_date=9.3368329285823, destination=-1, queue_size_at_arrival=1, queue_size_at_departure=3)]"
      ]
     },
     "execution_count": 121,
     "metadata": {},
     "output_type": "execute_result"
    }
   ],
   "source": [
    "sim_2.get_all_records()"
   ]
  },
  {
   "cell_type": "code",
   "execution_count": 123,
   "metadata": {},
   "outputs": [
    {
     "ename": "AssertionError",
     "evalue": "(2.2194875075431733, 2.6633850090518076)",
     "output_type": "error",
     "traceback": [
      "\u001b[1;31m---------------------------------------------------------------------------\u001b[0m",
      "\u001b[1;31mAssertionError\u001b[0m                            Traceback (most recent call last)",
      "\u001b[1;32m<ipython-input-123-c699c9d43551>\u001b[0m in \u001b[0;36m<module>\u001b[1;34m\u001b[0m\n\u001b[0;32m      1\u001b[0m \u001b[1;32mfor\u001b[0m \u001b[0mrec_1\u001b[0m\u001b[1;33m,\u001b[0m \u001b[0mrec_2\u001b[0m \u001b[1;32min\u001b[0m \u001b[0mzip\u001b[0m\u001b[1;33m(\u001b[0m\u001b[0msim_1\u001b[0m\u001b[1;33m.\u001b[0m\u001b[0mget_all_records\u001b[0m\u001b[1;33m(\u001b[0m\u001b[1;33m)\u001b[0m\u001b[1;33m,\u001b[0m \u001b[0msim_2\u001b[0m\u001b[1;33m.\u001b[0m\u001b[0mget_all_records\u001b[0m\u001b[1;33m(\u001b[0m\u001b[1;33m)\u001b[0m\u001b[1;33m)\u001b[0m\u001b[1;33m:\u001b[0m\u001b[1;33m\u001b[0m\u001b[1;33m\u001b[0m\u001b[0m\n\u001b[0;32m      2\u001b[0m     \u001b[1;32mfor\u001b[0m \u001b[0mi\u001b[0m\u001b[1;33m,\u001b[0m \u001b[0mj\u001b[0m \u001b[1;32min\u001b[0m \u001b[0mzip\u001b[0m\u001b[1;33m(\u001b[0m\u001b[0mrec_1\u001b[0m\u001b[1;33m,\u001b[0m \u001b[0mrec_2\u001b[0m\u001b[1;33m)\u001b[0m\u001b[1;33m:\u001b[0m\u001b[1;33m\u001b[0m\u001b[1;33m\u001b[0m\u001b[0m\n\u001b[1;32m----> 3\u001b[1;33m         \u001b[1;32massert\u001b[0m \u001b[0mi\u001b[0m \u001b[1;33m==\u001b[0m \u001b[0mj\u001b[0m\u001b[1;33m,\u001b[0m \u001b[1;33m(\u001b[0m\u001b[0mi\u001b[0m\u001b[1;33m,\u001b[0m \u001b[0mj\u001b[0m\u001b[1;33m)\u001b[0m\u001b[1;33m\u001b[0m\u001b[1;33m\u001b[0m\u001b[0m\n\u001b[0m",
      "\u001b[1;31mAssertionError\u001b[0m: (2.2194875075431733, 2.6633850090518076)"
     ]
    }
   ],
   "source": [
    "for rec_1, rec_2 in zip(sim_1.get_all_records(), sim_2.get_all_records()):\n",
    "    for i, j in zip(rec_1, rec_2):\n",
    "        assert i == j, (i, j)"
   ]
  },
  {
   "cell_type": "code",
   "execution_count": null,
   "metadata": {},
   "outputs": [],
   "source": []
  }
 ],
 "metadata": {
  "interpreter": {
   "hash": "0ead1484a8a50cf6ea1f432ac325d26c8d3a38903826859924e100b74edf52f8"
  },
  "kernelspec": {
   "display_name": "Python 3.8.1 64-bit ('AmbulanceGame': conda)",
   "language": "python",
   "name": "python3"
  },
  "language_info": {
   "codemirror_mode": {
    "name": "ipython",
    "version": 3
   },
   "file_extension": ".py",
   "mimetype": "text/x-python",
   "name": "python",
   "nbconvert_exporter": "python",
   "pygments_lexer": "ipython3",
   "version": "3.8.1"
  },
  "orig_nbformat": 4
 },
 "nbformat": 4,
 "nbformat_minor": 2
}
